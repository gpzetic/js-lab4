{
 "cells": [
  {
   "cell_type": "code",
   "execution_count": null,
   "id": "36d35fc7-873f-48ca-ba29-125b4d46e6bb",
   "metadata": {},
   "outputs": [
    {
     "name": "stdout",
     "output_type": "stream",
     "text": [
      "There are 4 strings with m, p or t\n",
      "Please retype the ten words in the Notepad application and close it once done.\n"
     ]
    }
   ],
   "source": [
    "import random\n",
    "import string\n",
    "import time\n",
    "import subprocess\n",
    "import os\n",
    "\n",
    "def generate_random_strings(num_strings=10):\n",
    "    vowels = 'aeiou'\n",
    "    strings_list = []\n",
    "    count = 0\n",
    "    for _ in range(num_strings):\n",
    "        length = random.choice([3, 5, 7]) \n",
    "        middle_index = length // 2\n",
    "        strg = ''.join(random.choice(string.ascii_lowercase) for _ in range(length))\n",
    "        if 'm' in strg or 'p' in strg or 't' in strg:\n",
    "            count += 1\n",
    "        middle_vowel = random.choice(vowels)\n",
    "        random_string = strg[:middle_index] + middle_vowel + strg[middle_index + 1:]\n",
    "        strings_list.append(random_string)\n",
    "    print(\"There are\", count, \"strings with m, p or t\")\n",
    "    return strings_list\n",
    "\n",
    "def write_strings_to_file(filename, strings_list):\n",
    "    with open(filename, 'w') as file:\n",
    "        for item in strings_list:\n",
    "            file.write(\"%s\\n\" % item)\n",
    "strings_list = generate_random_strings()\n",
    "write_strings_to_file('Lab09.txt', strings_list)\n",
    "time.sleep(20)\n",
    "print(\"Please retype the ten words in the Notepad application and close it once done.\")\n",
    "time1 = time.time()\n",
    "if os.name == 'nt': \n",
    "    p = subprocess.Popen(['notepad.exe', 'Lab09.txt'])\n",
    "    p.wait()\n",
    "    p.poll()\n",
    "else:\n",
    "    os.system('xdg-open Lab09.txt')\n",
    "    input(\"Press Enter in this console once you have closed text editor.\")\n",
    "time2 = time.time()\n",
    "time.sleep(15)\n",
    "\n",
    "print(\"Thank you for participating. If you followed the instructions, your approximate typing duration was \", time2 - time1)"
   ]
  },
  {
   "cell_type": "code",
   "execution_count": null,
   "id": "fdc81ff1-c695-4862-8ec8-edabf381d272",
   "metadata": {},
   "outputs": [],
   "source": []
  }
 ],
 "metadata": {
  "kernelspec": {
   "display_name": "Python 3 (ipykernel)",
   "language": "python",
   "name": "python3"
  },
  "language_info": {
   "codemirror_mode": {
    "name": "ipython",
    "version": 3
   },
   "file_extension": ".py",
   "mimetype": "text/x-python",
   "name": "python",
   "nbconvert_exporter": "python",
   "pygments_lexer": "ipython3",
   "version": "3.11.8"
  }
 },
 "nbformat": 4,
 "nbformat_minor": 5
}
